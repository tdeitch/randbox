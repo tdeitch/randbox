{
 "cells": [
  {
   "cell_type": "markdown",
   "metadata": {},
   "source": [
    "# Experimenting with Entropy"
   ]
  },
  {
   "cell_type": "code",
   "execution_count": 1,
   "metadata": {
    "collapsed": true
   },
   "outputs": [],
   "source": [
    "from pyrand import RandBytes\n",
    "from bitarray import bitarray"
   ]
  },
  {
   "cell_type": "markdown",
   "metadata": {},
   "source": [
    "## ANDing random numbers reduces entropy\n",
    "\n",
    "Each time two random numbers are ANDed together, each bit of the result is more likely to be a 0 than a 1. In the limit, ANDing an infinite number of random bits together will output 0 with probability 1."
   ]
  },
  {
   "cell_type": "code",
   "execution_count": 2,
   "metadata": {
    "collapsed": false,
    "scrolled": true
   },
   "outputs": [
    {
     "name": "stdout",
     "output_type": "stream",
     "text": [
      "bitarray('1011101100111011100101100101111111110001011111001110011001010010')\n",
      "bitarray('1000000100001001000101000101100001110001000011001110001000000000')\n",
      "bitarray('0000000000000001000001000000100000010000000001000000000000000000')\n",
      "bitarray('0000000000000001000000000000100000010000000000000000000000000000')\n",
      "bitarray('0000000000000000000000000000100000010000000000000000000000000000')\n",
      "26.562399953845965\n",
      "12.329284988313352\n",
      "5.9590018810548075\n",
      "2.9314361352399847\n"
     ]
    }
   ],
   "source": [
    "i = RandBytes(8)\n",
    "j = RandBytes(8)\n",
    "k = RandBytes(8)\n",
    "l = RandBytes(8)\n",
    "m = RandBytes(8)\n",
    "w = i & j\n",
    "x = w & k\n",
    "y = x & l\n",
    "z = y & m\n",
    "print(i.unwrap())\n",
    "print(w.unwrap())\n",
    "print(x.unwrap())\n",
    "print(y.unwrap())\n",
    "print(z.unwrap())\n",
    "print(w.entropy())\n",
    "print(x.entropy())\n",
    "print(y.entropy())\n",
    "print(z.entropy())"
   ]
  },
  {
   "cell_type": "markdown",
   "metadata": {},
   "source": [
    "## XORing a bit with itself eliminates entropy\n",
    "\n",
    "The result of a number XORed with itself is always 0."
   ]
  },
  {
   "cell_type": "code",
   "execution_count": 3,
   "metadata": {
    "collapsed": false
   },
   "outputs": [
    {
     "name": "stdout",
     "output_type": "stream",
     "text": [
      "bitarray('0000000000000000000000000000000000000000000000000000000000000000')\n",
      "0\n"
     ]
    }
   ],
   "source": [
    "i = RandBytes(8)\n",
    "j = i ^ i\n",
    "print(j.unwrap())\n",
    "print(j.entropy())"
   ]
  },
  {
   "cell_type": "markdown",
   "metadata": {},
   "source": [
    "## One time pad"
   ]
  },
  {
   "cell_type": "markdown",
   "metadata": {},
   "source": [
    "First, we define a helper function so that we can decrypt our ciphertext."
   ]
  },
  {
   "cell_type": "code",
   "execution_count": 4,
   "metadata": {
    "collapsed": true
   },
   "outputs": [],
   "source": [
    "def bxor(a, b):\n",
    "    result = bytearray(a)\n",
    "    for i, bt in enumerate(b):\n",
    "        result[i] ^= bt\n",
    "    return bytes(result)"
   ]
  },
  {
   "cell_type": "markdown",
   "metadata": {},
   "source": [
    "Next, we pick a message to encrypt."
   ]
  },
  {
   "cell_type": "code",
   "execution_count": 5,
   "metadata": {
    "collapsed": true
   },
   "outputs": [],
   "source": [
    "msg = \"If you optimize everything, you will always be unhappy.\""
   ]
  },
  {
   "cell_type": "markdown",
   "metadata": {},
   "source": [
    "We convert the message into a bitarray."
   ]
  },
  {
   "cell_type": "code",
   "execution_count": 6,
   "metadata": {
    "collapsed": true
   },
   "outputs": [],
   "source": [
    "m = bitarray(endian='big')\n",
    "m.frombytes(msg.encode('utf-8'))"
   ]
  },
  {
   "cell_type": "markdown",
   "metadata": {},
   "source": [
    "Then we generate a random key and XOR the message with the key."
   ]
  },
  {
   "cell_type": "code",
   "execution_count": 7,
   "metadata": {
    "collapsed": true
   },
   "outputs": [],
   "source": [
    "key = RandBytes(len(msg.encode('utf-8')))\n",
    "c = (key ^ m)"
   ]
  },
  {
   "cell_type": "markdown",
   "metadata": {},
   "source": [
    "We check that the key and ciphertext both have the same entropy."
   ]
  },
  {
   "cell_type": "code",
   "execution_count": 8,
   "metadata": {
    "collapsed": false
   },
   "outputs": [
    {
     "name": "stdout",
     "output_type": "stream",
     "text": [
      "440\n",
      "440.0\n",
      "440.0\n"
     ]
    }
   ],
   "source": [
    "print(len(m))\n",
    "print(key.entropy())\n",
    "print(c.entropy())"
   ]
  },
  {
   "cell_type": "markdown",
   "metadata": {},
   "source": [
    "Finally, we print the ciphertext and the decrypted message."
   ]
  },
  {
   "cell_type": "code",
   "execution_count": 9,
   "metadata": {
    "collapsed": false
   },
   "outputs": [
    {
     "name": "stdout",
     "output_type": "stream",
     "text": [
      "Encrypted message: bitarray('10010010010011100111001010111011001001010110110101101101101010011101000111101000011111111000010001111000110111001110101100111000010010001110110100100111111001100000011111101101111101110001010100010101011101101111101000101110011111101010101111110110001000001110110010001001001000110010101001000001001000100010011110000100010011101110010111010110010101011111110100111100100000011010001011110111101100010101000001011100001111010010000111100101')\n",
      "Bytes: 440\n",
      "Decrypted message: If you optimize everything, you will always be unhappy.\n"
     ]
    }
   ],
   "source": [
    "print('Encrypted message:', c.unwrap())\n",
    "print('Bytes:', len(m))\n",
    "print('Decrypted message:', bxor(c.unwrap().tobytes(), key.unwrap().tobytes()).decode('utf-8'))"
   ]
  }
 ],
 "metadata": {
  "kernelspec": {
   "display_name": "Python 3",
   "language": "python",
   "name": "python3"
  },
  "language_info": {
   "codemirror_mode": {
    "name": "ipython",
    "version": 3
   },
   "file_extension": ".py",
   "mimetype": "text/x-python",
   "name": "python",
   "nbconvert_exporter": "python",
   "pygments_lexer": "ipython3",
   "version": "3.5.1"
  }
 },
 "nbformat": 4,
 "nbformat_minor": 0
}
